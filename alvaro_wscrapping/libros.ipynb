{
 "cells": [
  {
   "cell_type": "code",
   "execution_count": 1,
   "metadata": {},
   "outputs": [],
   "source": [
    "from selenium import webdriver\n",
    "from selenium.webdriver.chrome.service import Service\n",
    "from selenium.webdriver.common.by import By\n",
    "import pandas as pd"
   ]
  },
  {
   "cell_type": "code",
   "execution_count": 2,
   "metadata": {},
   "outputs": [],
   "source": [
    "service = Service(executable_path='../chrome/chromedriver.exe')\n",
    "options = webdriver.ChromeOptions()\n",
    "driver = webdriver.Chrome(service=service, options=options)"
   ]
  },
  {
   "cell_type": "code",
   "execution_count": 6,
   "metadata": {},
   "outputs": [],
   "source": [
    "driver.get(\"https://es.wikipedia.org/wiki/Anexo:Libros_más_vendidos\")"
   ]
  },
  {
   "cell_type": "code",
   "execution_count": 17,
   "metadata": {},
   "outputs": [
    {
     "data": {
      "text/plain": [
       "<selenium.webdriver.remote.webelement.WebElement (session=\"96fbadf5e5351d6c327eb09736c84922\", element=\"f.B03706BE02D7250235477A9BDAE624A7.d.CFB809D9106B3D2A0ED1B02E001A6997.e.391\")>"
      ]
     },
     "execution_count": 17,
     "metadata": {},
     "output_type": "execute_result"
    }
   ],
   "source": [
    "element = driver.find_element(By.XPATH, '//*[@id=\"mw-content-text\"]/div[1]/table[1]')\n",
    "element"
   ]
  },
  {
   "cell_type": "code",
   "execution_count": 18,
   "metadata": {},
   "outputs": [
    {
     "data": {
      "text/plain": [
       "[<selenium.webdriver.remote.webelement.WebElement (session=\"96fbadf5e5351d6c327eb09736c84922\", element=\"f.B03706BE02D7250235477A9BDAE624A7.d.CFB809D9106B3D2A0ED1B02E001A6997.e.1677\")>,\n",
       " <selenium.webdriver.remote.webelement.WebElement (session=\"96fbadf5e5351d6c327eb09736c84922\", element=\"f.B03706BE02D7250235477A9BDAE624A7.d.CFB809D9106B3D2A0ED1B02E001A6997.e.1678\")>,\n",
       " <selenium.webdriver.remote.webelement.WebElement (session=\"96fbadf5e5351d6c327eb09736c84922\", element=\"f.B03706BE02D7250235477A9BDAE624A7.d.CFB809D9106B3D2A0ED1B02E001A6997.e.1679\")>,\n",
       " <selenium.webdriver.remote.webelement.WebElement (session=\"96fbadf5e5351d6c327eb09736c84922\", element=\"f.B03706BE02D7250235477A9BDAE624A7.d.CFB809D9106B3D2A0ED1B02E001A6997.e.1680\")>,\n",
       " <selenium.webdriver.remote.webelement.WebElement (session=\"96fbadf5e5351d6c327eb09736c84922\", element=\"f.B03706BE02D7250235477A9BDAE624A7.d.CFB809D9106B3D2A0ED1B02E001A6997.e.1681\")>,\n",
       " <selenium.webdriver.remote.webelement.WebElement (session=\"96fbadf5e5351d6c327eb09736c84922\", element=\"f.B03706BE02D7250235477A9BDAE624A7.d.CFB809D9106B3D2A0ED1B02E001A6997.e.1682\")>,\n",
       " <selenium.webdriver.remote.webelement.WebElement (session=\"96fbadf5e5351d6c327eb09736c84922\", element=\"f.B03706BE02D7250235477A9BDAE624A7.d.CFB809D9106B3D2A0ED1B02E001A6997.e.1683\")>,\n",
       " <selenium.webdriver.remote.webelement.WebElement (session=\"96fbadf5e5351d6c327eb09736c84922\", element=\"f.B03706BE02D7250235477A9BDAE624A7.d.CFB809D9106B3D2A0ED1B02E001A6997.e.1684\")>,\n",
       " <selenium.webdriver.remote.webelement.WebElement (session=\"96fbadf5e5351d6c327eb09736c84922\", element=\"f.B03706BE02D7250235477A9BDAE624A7.d.CFB809D9106B3D2A0ED1B02E001A6997.e.1685\")>,\n",
       " <selenium.webdriver.remote.webelement.WebElement (session=\"96fbadf5e5351d6c327eb09736c84922\", element=\"f.B03706BE02D7250235477A9BDAE624A7.d.CFB809D9106B3D2A0ED1B02E001A6997.e.1686\")>,\n",
       " <selenium.webdriver.remote.webelement.WebElement (session=\"96fbadf5e5351d6c327eb09736c84922\", element=\"f.B03706BE02D7250235477A9BDAE624A7.d.CFB809D9106B3D2A0ED1B02E001A6997.e.1687\")>]"
      ]
     },
     "execution_count": 18,
     "metadata": {},
     "output_type": "execute_result"
    }
   ],
   "source": [
    "rows = element.find_elements(By.TAG_NAME, 'tr')\n",
    "rows"
   ]
  },
  {
   "cell_type": "code",
   "execution_count": 19,
   "metadata": {},
   "outputs": [],
   "source": [
    "nombre = []\n",
    "autor = []\n",
    "publicacion = []\n",
    "\n",
    "for row in rows:\n",
    "    \n",
    "    cells = row.find_elements(By.TAG_NAME, 'td')\n",
    "    \n",
    "    if not cells:\n",
    "        cells = row.find_elements(By.TAG_NAME, 'th')\n",
    "        \n",
    "    cells_text = [cell.text for cell in cells]\n",
    "    nombre.append(cells_text[0])\n",
    "    autor.append(cells_text[1])\n",
    "    publicacion.append(cells_text[3])"
   ]
  },
  {
   "cell_type": "code",
   "execution_count": 20,
   "metadata": {},
   "outputs": [],
   "source": [
    "dic = {'Nombre': nombre[1:],\n",
    "       'Autor': autor[1:],\n",
    "       'Publicacion': publicacion[1:]}\n"
   ]
  },
  {
   "cell_type": "code",
   "execution_count": 21,
   "metadata": {},
   "outputs": [
    {
     "data": {
      "text/html": [
       "<div>\n",
       "<style scoped>\n",
       "    .dataframe tbody tr th:only-of-type {\n",
       "        vertical-align: middle;\n",
       "    }\n",
       "\n",
       "    .dataframe tbody tr th {\n",
       "        vertical-align: top;\n",
       "    }\n",
       "\n",
       "    .dataframe thead th {\n",
       "        text-align: right;\n",
       "    }\n",
       "</style>\n",
       "<table border=\"1\" class=\"dataframe\">\n",
       "  <thead>\n",
       "    <tr style=\"text-align: right;\">\n",
       "      <th></th>\n",
       "      <th>Nombre</th>\n",
       "      <th>Autor</th>\n",
       "      <th>Publicacion</th>\n",
       "    </tr>\n",
       "  </thead>\n",
       "  <tbody>\n",
       "    <tr>\n",
       "      <th>0</th>\n",
       "      <td>Don Quijote</td>\n",
       "      <td>Miguel de Cervantes</td>\n",
       "      <td>1605</td>\n",
       "    </tr>\n",
       "    <tr>\n",
       "      <th>1</th>\n",
       "      <td>Historia de dos ciudades (A Tale of Two Cities)</td>\n",
       "      <td>Charles Dickens</td>\n",
       "      <td>1859</td>\n",
       "    </tr>\n",
       "    <tr>\n",
       "      <th>2</th>\n",
       "      <td>El Señor de los Anillos (The Lord of the Rings)</td>\n",
       "      <td>J. R. R. Tolkien</td>\n",
       "      <td>1954</td>\n",
       "    </tr>\n",
       "    <tr>\n",
       "      <th>3</th>\n",
       "      <td>Harry Potter y la piedra filosofal (Harry Pott...</td>\n",
       "      <td>J.K. Rowling</td>\n",
       "      <td>1997</td>\n",
       "    </tr>\n",
       "    <tr>\n",
       "      <th>4</th>\n",
       "      <td>El principito (Le Petit Prince)</td>\n",
       "      <td>Antoine de Saint-Exupéry</td>\n",
       "      <td>1943</td>\n",
       "    </tr>\n",
       "    <tr>\n",
       "      <th>5</th>\n",
       "      <td>El hobbit (The Hobbit)</td>\n",
       "      <td>J. R. R. Tolkien</td>\n",
       "      <td>1937</td>\n",
       "    </tr>\n",
       "    <tr>\n",
       "      <th>6</th>\n",
       "      <td>Sueño en el pabellón rojo (红楼梦, Hóng lóu mèng)</td>\n",
       "      <td>Cao Xueqin</td>\n",
       "      <td>1759–1791</td>\n",
       "    </tr>\n",
       "    <tr>\n",
       "      <th>7</th>\n",
       "      <td>Triple representatividad (论三个代表, Sānge dàibiǎo)</td>\n",
       "      <td>Jiang Zemin</td>\n",
       "      <td>2001</td>\n",
       "    </tr>\n",
       "    <tr>\n",
       "      <th>8</th>\n",
       "      <td>Diez negritos</td>\n",
       "      <td>Agatha Christie</td>\n",
       "      <td>1939</td>\n",
       "    </tr>\n",
       "    <tr>\n",
       "      <th>9</th>\n",
       "      <td>Las aventuras de Alicia en el país de las mara...</td>\n",
       "      <td>Lewis Carroll</td>\n",
       "      <td>1865</td>\n",
       "    </tr>\n",
       "  </tbody>\n",
       "</table>\n",
       "</div>"
      ],
      "text/plain": [
       "                                              Nombre  \\\n",
       "0                                        Don Quijote   \n",
       "1    Historia de dos ciudades (A Tale of Two Cities)   \n",
       "2    El Señor de los Anillos (The Lord of the Rings)   \n",
       "3  Harry Potter y la piedra filosofal (Harry Pott...   \n",
       "4                    El principito (Le Petit Prince)   \n",
       "5                             El hobbit (The Hobbit)   \n",
       "6     Sueño en el pabellón rojo (红楼梦, Hóng lóu mèng)   \n",
       "7    Triple representatividad (论三个代表, Sānge dàibiǎo)   \n",
       "8                                      Diez negritos   \n",
       "9  Las aventuras de Alicia en el país de las mara...   \n",
       "\n",
       "                      Autor Publicacion  \n",
       "0       Miguel de Cervantes        1605  \n",
       "1           Charles Dickens        1859  \n",
       "2          J. R. R. Tolkien        1954  \n",
       "3              J.K. Rowling        1997  \n",
       "4  Antoine de Saint-Exupéry        1943  \n",
       "5          J. R. R. Tolkien        1937  \n",
       "6                Cao Xueqin   1759–1791  \n",
       "7               Jiang Zemin        2001  \n",
       "8           Agatha Christie        1939  \n",
       "9             Lewis Carroll        1865  "
      ]
     },
     "execution_count": 21,
     "metadata": {},
     "output_type": "execute_result"
    }
   ],
   "source": [
    "df_libros = pd.DataFrame(dic)\n",
    "df_libros"
   ]
  },
  {
   "cell_type": "code",
   "execution_count": 22,
   "metadata": {},
   "outputs": [],
   "source": [
    "df_libros.index = pd.RangeIndex(start=1, stop=len(df_libros) + 1, step=1)"
   ]
  },
  {
   "cell_type": "code",
   "execution_count": 23,
   "metadata": {},
   "outputs": [
    {
     "data": {
      "text/html": [
       "<div>\n",
       "<style scoped>\n",
       "    .dataframe tbody tr th:only-of-type {\n",
       "        vertical-align: middle;\n",
       "    }\n",
       "\n",
       "    .dataframe tbody tr th {\n",
       "        vertical-align: top;\n",
       "    }\n",
       "\n",
       "    .dataframe thead th {\n",
       "        text-align: right;\n",
       "    }\n",
       "</style>\n",
       "<table border=\"1\" class=\"dataframe\">\n",
       "  <thead>\n",
       "    <tr style=\"text-align: right;\">\n",
       "      <th></th>\n",
       "      <th>Nombre</th>\n",
       "      <th>Autor</th>\n",
       "      <th>Publicacion</th>\n",
       "    </tr>\n",
       "  </thead>\n",
       "  <tbody>\n",
       "    <tr>\n",
       "      <th>1</th>\n",
       "      <td>Don Quijote</td>\n",
       "      <td>Miguel de Cervantes</td>\n",
       "      <td>1605</td>\n",
       "    </tr>\n",
       "    <tr>\n",
       "      <th>2</th>\n",
       "      <td>Historia de dos ciudades (A Tale of Two Cities)</td>\n",
       "      <td>Charles Dickens</td>\n",
       "      <td>1859</td>\n",
       "    </tr>\n",
       "    <tr>\n",
       "      <th>3</th>\n",
       "      <td>El Señor de los Anillos (The Lord of the Rings)</td>\n",
       "      <td>J. R. R. Tolkien</td>\n",
       "      <td>1954</td>\n",
       "    </tr>\n",
       "    <tr>\n",
       "      <th>4</th>\n",
       "      <td>Harry Potter y la piedra filosofal (Harry Pott...</td>\n",
       "      <td>J.K. Rowling</td>\n",
       "      <td>1997</td>\n",
       "    </tr>\n",
       "    <tr>\n",
       "      <th>5</th>\n",
       "      <td>El principito (Le Petit Prince)</td>\n",
       "      <td>Antoine de Saint-Exupéry</td>\n",
       "      <td>1943</td>\n",
       "    </tr>\n",
       "    <tr>\n",
       "      <th>6</th>\n",
       "      <td>El hobbit (The Hobbit)</td>\n",
       "      <td>J. R. R. Tolkien</td>\n",
       "      <td>1937</td>\n",
       "    </tr>\n",
       "    <tr>\n",
       "      <th>7</th>\n",
       "      <td>Sueño en el pabellón rojo (红楼梦, Hóng lóu mèng)</td>\n",
       "      <td>Cao Xueqin</td>\n",
       "      <td>1759–1791</td>\n",
       "    </tr>\n",
       "    <tr>\n",
       "      <th>8</th>\n",
       "      <td>Triple representatividad (论三个代表, Sānge dàibiǎo)</td>\n",
       "      <td>Jiang Zemin</td>\n",
       "      <td>2001</td>\n",
       "    </tr>\n",
       "    <tr>\n",
       "      <th>9</th>\n",
       "      <td>Diez negritos</td>\n",
       "      <td>Agatha Christie</td>\n",
       "      <td>1939</td>\n",
       "    </tr>\n",
       "    <tr>\n",
       "      <th>10</th>\n",
       "      <td>Las aventuras de Alicia en el país de las mara...</td>\n",
       "      <td>Lewis Carroll</td>\n",
       "      <td>1865</td>\n",
       "    </tr>\n",
       "  </tbody>\n",
       "</table>\n",
       "</div>"
      ],
      "text/plain": [
       "                                               Nombre  \\\n",
       "1                                         Don Quijote   \n",
       "2     Historia de dos ciudades (A Tale of Two Cities)   \n",
       "3     El Señor de los Anillos (The Lord of the Rings)   \n",
       "4   Harry Potter y la piedra filosofal (Harry Pott...   \n",
       "5                     El principito (Le Petit Prince)   \n",
       "6                              El hobbit (The Hobbit)   \n",
       "7      Sueño en el pabellón rojo (红楼梦, Hóng lóu mèng)   \n",
       "8     Triple representatividad (论三个代表, Sānge dàibiǎo)   \n",
       "9                                       Diez negritos   \n",
       "10  Las aventuras de Alicia en el país de las mara...   \n",
       "\n",
       "                       Autor Publicacion  \n",
       "1        Miguel de Cervantes        1605  \n",
       "2            Charles Dickens        1859  \n",
       "3           J. R. R. Tolkien        1954  \n",
       "4               J.K. Rowling        1997  \n",
       "5   Antoine de Saint-Exupéry        1943  \n",
       "6           J. R. R. Tolkien        1937  \n",
       "7                 Cao Xueqin   1759–1791  \n",
       "8                Jiang Zemin        2001  \n",
       "9            Agatha Christie        1939  \n",
       "10             Lewis Carroll        1865  "
      ]
     },
     "execution_count": 23,
     "metadata": {},
     "output_type": "execute_result"
    }
   ],
   "source": [
    "df_libros"
   ]
  }
 ],
 "metadata": {
  "kernelspec": {
   "display_name": "Python 3",
   "language": "python",
   "name": "python3"
  },
  "language_info": {
   "codemirror_mode": {
    "name": "ipython",
    "version": 3
   },
   "file_extension": ".py",
   "mimetype": "text/x-python",
   "name": "python",
   "nbconvert_exporter": "python",
   "pygments_lexer": "ipython3",
   "version": "3.11.9"
  }
 },
 "nbformat": 4,
 "nbformat_minor": 2
}
