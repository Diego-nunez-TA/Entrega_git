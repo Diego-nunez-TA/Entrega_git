{
 "cells": [
  {
   "cell_type": "code",
   "execution_count": 113,
   "metadata": {},
   "outputs": [],
   "source": [
    "\n",
    "from selenium import webdriver\n",
    "from selenium.webdriver.chrome.service import Service\n",
    "from selenium.webdriver.common.by import By\n",
    "import pandas as pd"
   ]
  },
  {
   "cell_type": "code",
   "execution_count": 104,
   "metadata": {},
   "outputs": [],
   "source": [
    "titulo_juego = []\n",
    "desarrollador = []\n",
    "fecha_juego = []"
   ]
  },
  {
   "cell_type": "code",
   "execution_count": 105,
   "metadata": {},
   "outputs": [],
   "source": [
    "options = webdriver.ChromeOptions()\n",
    "\n",
    "service = Service(executable_path='./chromedriver')\n",
    "options = webdriver.ChromeOptions()\n",
    "driver = webdriver.Chrome(service=service, options=options)\n",
    "\n",
    "        #Entrar a la web\n",
    "driver.get(\"https://es.wikipedia.org/wiki/Anexo:Videojuegos_m%C3%A1s_vendidos\")\n"
   ]
  },
  {
   "cell_type": "code",
   "execution_count": 106,
   "metadata": {},
   "outputs": [],
   "source": [
    "tabla = driver.find_element(By.XPATH,'/html/body/div[2]/div/div[3]/main/div[3]/div[3]/div[1]/table')"
   ]
  },
  {
   "cell_type": "code",
   "execution_count": 107,
   "metadata": {},
   "outputs": [],
   "source": [
    "filas = tabla.find_elements(By.TAG_NAME, 'tr')\n",
    "\n",
    "\n",
    "for fila in filas[1:11]:  \n",
    "    cajas = fila.find_elements(By.TAG_NAME, 'td')\n",
    "    \n",
    "    titulo_juego.append(cajas[0].text)\n",
    "    desarrollador.append(cajas[1].text)\n",
    "    fecha_juego.append(cajas[3].text)\n",
    "\n",
    "\n",
    "driver.quit()"
   ]
  },
  {
   "cell_type": "code",
   "execution_count": 108,
   "metadata": {},
   "outputs": [
    {
     "name": "stdout",
     "output_type": "stream",
     "text": [
      "['Minecraft', 'Grand Theft Auto V', 'Tetris (EA)', 'Wii Sports', 'PUBG: Battlegrounds', 'Mario Kart 8 / Deluxe', 'The Elder Scrolls V: Skyrim', 'Super Mario Bros.', 'Red Dead Redemption 2', 'The Witcher 3']\n",
      "['Mojang Studios', 'Rockstar North', 'EA Mobile', 'Nintendo EAD', 'PUBG Studios', 'Nintendo EAD / EPD', 'Bethesda Game Studios', 'Nintendo', 'Rockstar Studios', 'CD Projekt Red']\n",
      "['18 de noviembre de 2011nota 3', '17 de septiembre de 2013', '12 de septiembre de 2006', '19 de noviembre de 2006', '20 de diciembre de 2017', '29 de mayo de 2014', '11 de noviembre de 2011', '13 de septiembre de 1985', '26 de octubre de 2018', '19 de mayo de 2015']\n"
     ]
    }
   ],
   "source": [
    "print(titulo_juego)\n",
    "print(desarrollador)\n",
    "print(fecha_juego)"
   ]
  },
  {
   "cell_type": "code",
   "execution_count": 93,
   "metadata": {},
   "outputs": [],
   "source": [
    "dicc_juego = {\"Titulo\": titulo_juego,\n",
    "            \"Desarrollador\":desarrollador,\n",
    "            \"Fecha\": fecha_juego}"
   ]
  },
  {
   "cell_type": "code",
   "execution_count": 94,
   "metadata": {},
   "outputs": [],
   "source": [
    "df_juego = pd.DataFrame(dicc_juego)"
   ]
  },
  {
   "cell_type": "code",
   "execution_count": 111,
   "metadata": {},
   "outputs": [
    {
     "name": "stderr",
     "output_type": "stream",
     "text": [
      "/var/folders/7d/qr1479r17nzc3t2f6zjw8k680000gn/T/ipykernel_12883/3594207841.py:1: FutureWarning: ChainedAssignmentError: behaviour will change in pandas 3.0!\n",
      "You are setting values through chained assignment. Currently this works in certain cases, but when using Copy-on-Write (which will become the default behaviour in pandas 3.0) this will never work to update the original DataFrame or Series, because the intermediate object on which we are setting values will behave as a copy.\n",
      "A typical example is when you are setting values in a column of a DataFrame, like:\n",
      "\n",
      "df[\"col\"][row_indexer] = value\n",
      "\n",
      "Use `df.loc[row_indexer, \"col\"] = values` instead, to perform the assignment in a single step and ensure this keeps updating the original `df`.\n",
      "\n",
      "See the caveats in the documentation: https://pandas.pydata.org/pandas-docs/stable/user_guide/indexing.html#returning-a-view-versus-a-copy\n",
      "\n",
      "  df_juego[\"Fecha\"][0] = '18 de noviembre de 2011'\n"
     ]
    }
   ],
   "source": [
    "df_juego[\"Fecha\"][0] = '18 de noviembre de 2011'"
   ]
  },
  {
   "cell_type": "code",
   "execution_count": 112,
   "metadata": {},
   "outputs": [
    {
     "data": {
      "text/html": [
       "<div>\n",
       "<style scoped>\n",
       "    .dataframe tbody tr th:only-of-type {\n",
       "        vertical-align: middle;\n",
       "    }\n",
       "\n",
       "    .dataframe tbody tr th {\n",
       "        vertical-align: top;\n",
       "    }\n",
       "\n",
       "    .dataframe thead th {\n",
       "        text-align: right;\n",
       "    }\n",
       "</style>\n",
       "<table border=\"1\" class=\"dataframe\">\n",
       "  <thead>\n",
       "    <tr style=\"text-align: right;\">\n",
       "      <th></th>\n",
       "      <th>Titulo</th>\n",
       "      <th>Desarrollador</th>\n",
       "      <th>Fecha</th>\n",
       "    </tr>\n",
       "  </thead>\n",
       "  <tbody>\n",
       "    <tr>\n",
       "      <th>0</th>\n",
       "      <td>Minecraft</td>\n",
       "      <td>Mojang Studios</td>\n",
       "      <td>18 de noviembre de 2011</td>\n",
       "    </tr>\n",
       "    <tr>\n",
       "      <th>1</th>\n",
       "      <td>Grand Theft Auto V</td>\n",
       "      <td>Rockstar North</td>\n",
       "      <td>17 de septiembre de 2013</td>\n",
       "    </tr>\n",
       "    <tr>\n",
       "      <th>2</th>\n",
       "      <td>Tetris (EA)</td>\n",
       "      <td>EA Mobile</td>\n",
       "      <td>12 de septiembre de 2006</td>\n",
       "    </tr>\n",
       "    <tr>\n",
       "      <th>3</th>\n",
       "      <td>Wii Sports</td>\n",
       "      <td>Nintendo EAD</td>\n",
       "      <td>19 de noviembre de 2006</td>\n",
       "    </tr>\n",
       "    <tr>\n",
       "      <th>4</th>\n",
       "      <td>PUBG: Battlegrounds</td>\n",
       "      <td>PUBG Studios</td>\n",
       "      <td>20 de diciembre de 2017</td>\n",
       "    </tr>\n",
       "    <tr>\n",
       "      <th>5</th>\n",
       "      <td>Mario Kart 8 / Deluxe</td>\n",
       "      <td>Nintendo EAD / EPD</td>\n",
       "      <td>29 de mayo de 2014</td>\n",
       "    </tr>\n",
       "    <tr>\n",
       "      <th>6</th>\n",
       "      <td>The Elder Scrolls V: Skyrim</td>\n",
       "      <td>Bethesda Game Studios</td>\n",
       "      <td>11 de noviembre de 2011</td>\n",
       "    </tr>\n",
       "    <tr>\n",
       "      <th>7</th>\n",
       "      <td>Super Mario Bros.</td>\n",
       "      <td>Nintendo</td>\n",
       "      <td>13 de septiembre de 1985</td>\n",
       "    </tr>\n",
       "    <tr>\n",
       "      <th>8</th>\n",
       "      <td>Red Dead Redemption 2</td>\n",
       "      <td>Rockstar Studios</td>\n",
       "      <td>26 de octubre de 2018</td>\n",
       "    </tr>\n",
       "    <tr>\n",
       "      <th>9</th>\n",
       "      <td>The Witcher 3</td>\n",
       "      <td>CD Projekt Red</td>\n",
       "      <td>19 de mayo de 2015</td>\n",
       "    </tr>\n",
       "  </tbody>\n",
       "</table>\n",
       "</div>"
      ],
      "text/plain": [
       "                        Titulo          Desarrollador  \\\n",
       "0                    Minecraft         Mojang Studios   \n",
       "1           Grand Theft Auto V         Rockstar North   \n",
       "2                  Tetris (EA)              EA Mobile   \n",
       "3                   Wii Sports           Nintendo EAD   \n",
       "4          PUBG: Battlegrounds           PUBG Studios   \n",
       "5        Mario Kart 8 / Deluxe     Nintendo EAD / EPD   \n",
       "6  The Elder Scrolls V: Skyrim  Bethesda Game Studios   \n",
       "7            Super Mario Bros.               Nintendo   \n",
       "8        Red Dead Redemption 2       Rockstar Studios   \n",
       "9                The Witcher 3         CD Projekt Red   \n",
       "\n",
       "                      Fecha  \n",
       "0   18 de noviembre de 2011  \n",
       "1  17 de septiembre de 2013  \n",
       "2  12 de septiembre de 2006  \n",
       "3   19 de noviembre de 2006  \n",
       "4   20 de diciembre de 2017  \n",
       "5        29 de mayo de 2014  \n",
       "6   11 de noviembre de 2011  \n",
       "7  13 de septiembre de 1985  \n",
       "8     26 de octubre de 2018  \n",
       "9        19 de mayo de 2015  "
      ]
     },
     "execution_count": 112,
     "metadata": {},
     "output_type": "execute_result"
    }
   ],
   "source": [
    "df_juego"
   ]
  }
 ],
 "metadata": {
  "kernelspec": {
   "display_name": "Python 3",
   "language": "python",
   "name": "python3"
  },
  "language_info": {
   "codemirror_mode": {
    "name": "ipython",
    "version": 3
   },
   "file_extension": ".py",
   "mimetype": "text/x-python",
   "name": "python",
   "nbconvert_exporter": "python",
   "pygments_lexer": "ipython3",
   "version": "3.10.11"
  }
 },
 "nbformat": 4,
 "nbformat_minor": 2
}
