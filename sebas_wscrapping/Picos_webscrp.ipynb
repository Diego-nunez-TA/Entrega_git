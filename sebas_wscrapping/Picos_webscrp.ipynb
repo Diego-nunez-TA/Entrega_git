{
 "cells": [
  {
   "cell_type": "code",
   "execution_count": 31,
   "metadata": {},
   "outputs": [
    {
     "data": {
      "text/plain": [
       "['14',\n",
       " 'Shisha Pangma',\n",
       " '8027 m',\n",
       " 'China',\n",
       " '2 de mayo de 1964',\n",
       " 'Hsu Ching\\nChang Chun-yen\\nWang Fu-zhou\\nChen San\\nCheng Tien-liang\\nWu Tsung-yue\\nSodnam Doji\\nMigmar Trashi\\nDoji\\nYonten',\n",
       " '14 de enero de 2005',\n",
       " 'Piotr Morawski\\nSimone Moro']"
      ]
     },
     "execution_count": 31,
     "metadata": {},
     "output_type": "execute_result"
    }
   ],
   "source": [
    "import numpy as np\n",
    "import pandas as pd\n",
    "from selenium import webdriver\n",
    "from selenium.webdriver.chrome.service import Service\n",
    "from selenium.webdriver.common.by import By\n",
    "\n",
    "\n",
    "service = Service(executable_path='../chrome/chromedriver.exe')\n",
    "options = webdriver.ChromeOptions()\n",
    "driver = webdriver.Chrome(service=service, options=options)\n",
    "\n",
    "url = 'https://es.wikipedia.org/wiki/Ochomil'\n",
    "# el objeto driver nos va a permitir alterar el estado del la página\n",
    "driver.get(url)\n",
    "\n",
    "#Encuentra la tabla\n",
    "element=driver.find_element(By.XPATH,'//*[@id=\"mw-content-text\"]/div[1]/table[2]')\n",
    "\n",
    "# Extrae las filas de la tabla\n",
    "rows = element.find_elements(By.TAG_NAME, 'tr')\n",
    "\n",
    "nombres=[]\n",
    "alturas=[]\n",
    "localizaciones=[]\n",
    "\n",
    "# Va por las filas y encuentra la celda\n",
    "for row in rows:\n",
    "    #Busca una celda de informacion\n",
    "    cells = row.find_elements(By.TAG_NAME, 'td')  \n",
    "    if not cells: \n",
    "        # Si no es una celda y es un header agarra el header\n",
    "        cells = row.find_elements(By.TAG_NAME, 'th')\n",
    "\n",
    "    cell_texts = [cell.text for cell in cells ]\n",
    "    nombres.append(cell_texts[1])\n",
    "    alturas.append(cell_texts[2])\n",
    "    localizaciones.append(cell_texts[3])\n",
    "\n",
    "\n",
    "    \n",
    "driver.quit()\n",
    "\n",
    "#Quita la fila de headers\n",
    "\n",
    "dict={ \"nombres\": nombres[1:],\n",
    "      \"alturas\" : alturas[1:],\n",
    "      \"localizaciones\": localizaciones[1:]}\n",
    "\n",
    "picos=pd.DataFrame(dict)\n",
    "\n",
    "mask = picos['localizaciones'].str.isalpha() == False\n",
    "picos.loc[mask, 'localizaciones'] = picos.loc[mask, 'localizaciones'].str[:-1]\n",
    "picos\n",
    "\n",
    "\n"
   ]
  }
 ],
 "metadata": {
  "kernelspec": {
   "display_name": "Python 3",
   "language": "python",
   "name": "python3"
  },
  "language_info": {
   "codemirror_mode": {
    "name": "ipython",
    "version": 3
   },
   "file_extension": ".py",
   "mimetype": "text/x-python",
   "name": "python",
   "nbconvert_exporter": "python",
   "pygments_lexer": "ipython3",
   "version": "3.12.3"
  }
 },
 "nbformat": 4,
 "nbformat_minor": 2
}
